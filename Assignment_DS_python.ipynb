{
 "cells": [
  {
   "cell_type": "code",
   "execution_count": 6,
   "id": "a48a2930-c6b2-432a-be14-b120e10e9064",
   "metadata": {},
   "outputs": [
    {
     "name": "stdin",
     "output_type": "stream",
     "text": [
      "Enter the String to reverse:-  uoy evol I\n"
     ]
    },
    {
     "data": {
      "text/plain": [
       "'I love you'"
      ]
     },
     "execution_count": 6,
     "metadata": {},
     "output_type": "execute_result"
    }
   ],
   "source": [
    "# Q.1) Write code to reverse string.\n",
    "string1 = input(\"Enter the String to reverse:- \")\n",
    "string1[::-1]"
   ]
  },
  {
   "cell_type": "code",
   "execution_count": 21,
   "id": "0c7cdbde-fd6b-4cd2-8b50-6ba4a23f170b",
   "metadata": {},
   "outputs": [
    {
     "name": "stdout",
     "output_type": "stream",
     "text": [
      "['I']\n",
      "Number of Vowels in the string is 1 and vowel is I\n",
      "['I', 'a']\n",
      "Number of Vowels in the string is 2 and vowel is a\n",
      "['I', 'a', 'e']\n",
      "Number of Vowels in the string is 3 and vowel is e\n",
      "['I', 'a', 'e', 'o']\n",
      "Number of Vowels in the string is 4 and vowel is o\n",
      "['I', 'a', 'e', 'o', 'o']\n",
      "Number of Vowels in the string is 5 and vowel is o\n",
      "['I', 'a', 'e', 'o', 'o', 'o']\n",
      "Number of Vowels in the string is 6 and vowel is o\n",
      "['I', 'a', 'e', 'o', 'o', 'o', 'e']\n",
      "Number of Vowels in the string is 7 and vowel is e\n",
      "['I', 'a', 'e', 'o', 'o', 'o', 'e', 'a']\n",
      "Number of Vowels in the string is 8 and vowel is a\n",
      "['I', 'a', 'e', 'o', 'o', 'o', 'e', 'a', 'u']\n",
      "Number of Vowels in the string is 9 and vowel is u\n",
      "['I', 'a', 'e', 'o', 'o', 'o', 'e', 'a', 'u', 'e']\n",
      "Number of Vowels in the string is 10 and vowel is e\n",
      "['I', 'a', 'e', 'o', 'o', 'o', 'e', 'a', 'u', 'e', 'o']\n",
      "Number of Vowels in the string is 11 and vowel is o\n",
      "['I', 'a', 'e', 'o', 'o', 'o', 'e', 'a', 'u', 'e', 'o', 'o']\n",
      "Number of Vowels in the string is 12 and vowel is o\n",
      "['I', 'a', 'e', 'o', 'o', 'o', 'e', 'a', 'u', 'e', 'o', 'o', 'u']\n",
      "Number of Vowels in the string is 13 and vowel is u\n"
     ]
    }
   ],
   "source": [
    "# Q.2) Write code to count the number of vowels in ' string.\n",
    "string2 = \"I have my own yolo because of you.\"\n",
    "vowels =\"aeiouAEIOU\"\n",
    "count = 0\n",
    "string_vowels = []\n",
    "for i in string2:\n",
    "    if i in vowels:\n",
    "        count+=1\n",
    "        string_vowels.append(i)\n",
    "        print(string_vowels)\n",
    "        print(f\"Number of Vowels in the string is {count} and vowel is {i}\") \n",
    "        "
   ]
  },
  {
   "cell_type": "code",
   "execution_count": 31,
   "id": "177e8044-aec9-4e22-886a-73dcd3c6c9a5",
   "metadata": {},
   "outputs": [
    {
     "name": "stdout",
     "output_type": "stream",
     "text": [
      "String is Palindrome\n"
     ]
    }
   ],
   "source": [
    "# Q.3)Write ' code to check if ' given string is ' palindrome or not.\n",
    "string3 = \"radar\"\n",
    "rev_string3 = string3[::-1]\n",
    "if string3.lower() == rev_string3.lower():\n",
    "    print(\"String is Palindrome\")\n",
    "else:\n",
    "    print(\"String is not Palindrome\")"
   ]
  },
  {
   "cell_type": "code",
   "execution_count": 47,
   "id": "c3b7f040-41a8-466b-a4aa-453c0d534ff4",
   "metadata": {},
   "outputs": [
    {
     "name": "stdout",
     "output_type": "stream",
     "text": [
      "Anagrams\n"
     ]
    }
   ],
   "source": [
    "# Q.4) Write  code to %he%k if two given strings anagrams of each other\n",
    "string4 = \"dog\"\n",
    "string5 = \"god\"\n",
    "string4 = sorted(string4.lower())\n",
    "string5 = sorted(string5.lower())\n",
    "if string4 == string5:\n",
    "    print(\"Anagrams\")\n",
    "else:\n",
    "    print(\"Not Anagrams\")\n"
   ]
  },
  {
   "cell_type": "code",
   "execution_count": 50,
   "id": "378da77c-7abd-486b-9c1f-2e008b1705c7",
   "metadata": {},
   "outputs": [
    {
     "name": "stdout",
     "output_type": "stream",
     "text": [
      "[1, 7, 12]\n"
     ]
    }
   ],
   "source": [
    "# Q.5) Write a code to find all occurrences of a given substring within another string.\n",
    "def all_occurences(substring,string1):\n",
    "    start = 0\n",
    "    occurrences = []\n",
    "    while True:\n",
    "        index = string1.find(substring,start)\n",
    "        if index == -1:\n",
    "            break\n",
    "        occurrences.append(index)\n",
    "        start = index + len(substring)\n",
    "    return occurrences\n",
    "\n",
    "str1 = \"Hello welcome to India\"\n",
    "substr = \"e\"\n",
    "occurrences = all_occurences(substr,str1)\n",
    "print(occurrences)"
   ]
  },
  {
   "cell_type": "code",
   "execution_count": 63,
   "id": "f9a05799-7c28-4e3e-b1f7-cc4636910e54",
   "metadata": {},
   "outputs": [
    {
     "name": "stdout",
     "output_type": "stream",
     "text": [
      "a2b3c4d5\n"
     ]
    }
   ],
   "source": [
    "# Q.6)  Write a code to perform basic string compression using the counts of repeated characters.\n",
    "def compress(string):\n",
    "    compressed_str = \"\"\n",
    "    current_str = string[0]\n",
    "    count = 1\n",
    "    for character in string[1:]:\n",
    "        if character == current_str:\n",
    "            count += 1\n",
    "        else:\n",
    "            compressed_str += current_str + str(count)\n",
    "            current_str = character\n",
    "            count = 1\n",
    "    compressed_str += current_str + str(count)\n",
    "    return compressed_str\n",
    "\n",
    "string6 = \"aabbbccccddddd\"\n",
    "compressed_str = compress(string6)\n",
    "print(compressed_str)\n"
   ]
  },
  {
   "cell_type": "code",
   "execution_count": 5,
   "id": "ce13378e-dcc8-4cef-8d2b-f9356bf0c1b7",
   "metadata": {},
   "outputs": [
    {
     "name": "stdout",
     "output_type": "stream",
     "text": [
      "False\n",
      "True\n"
     ]
    }
   ],
   "source": [
    "# Q.7)  Write a code to determine if a string has all unique character\n",
    "def unique_char(string):\n",
    "    char_set = set(string)\n",
    "    return len(char_set) == len(string)\n",
    "print(unique_char(\"hello\"))\n",
    "print(unique_char(\"world\"))"
   ]
  },
  {
   "cell_type": "code",
   "execution_count": 8,
   "id": "7174c8e1-75cf-48b3-b078-475654063212",
   "metadata": {},
   "outputs": [
    {
     "name": "stdin",
     "output_type": "stream",
     "text": [
      "Enter the UPPERCASE STRING KASHYAP\n"
     ]
    },
    {
     "data": {
      "text/plain": [
       "'kashyap'"
      ]
     },
     "execution_count": 8,
     "metadata": {},
     "output_type": "execute_result"
    }
   ],
   "source": [
    "# Q.8) Write a code to convert a given string to uppercase or lowercase\n",
    "string8 = input(\"Enter the UPPERCASE STRING\")\n",
    "string8.lower()"
   ]
  },
  {
   "cell_type": "code",
   "execution_count": 10,
   "id": "3d2c0423-9e75-46e7-8ef7-81ecf06a1092",
   "metadata": {},
   "outputs": [
    {
     "name": "stdout",
     "output_type": "stream",
     "text": [
      "4\n"
     ]
    }
   ],
   "source": [
    " # Q.9) Write a code to count the number of words in a string.\n",
    "string9 = \"My name is Kashyap\"\n",
    "words = string9.split(\" \")\n",
    "print(len(words))"
   ]
  },
  {
   "cell_type": "code",
   "execution_count": 20,
   "id": "607a1efc-46fe-40cf-9d92-70218094ea7b",
   "metadata": {},
   "outputs": [
    {
     "name": "stdout",
     "output_type": "stream",
     "text": [
      "This is String1 This is String2\n"
     ]
    }
   ],
   "source": [
    "# Q.10) Write a code to coneatenate two strings without using the + operator.\n",
    "string10 = \"This is String1 \"\n",
    "string11 = \"This is String2\"\n",
    "result = \"\"\n",
    "for char in string10:\n",
    "    result += char\n",
    "    \n",
    "for char in string11:\n",
    "    result += char\n",
    "\n",
    "print(result)"
   ]
  },
  {
   "cell_type": "code",
   "execution_count": 36,
   "id": "a42477f0-95d0-474f-a2e6-d5e68a67e356",
   "metadata": {},
   "outputs": [
    {
     "name": "stdout",
     "output_type": "stream",
     "text": [
      "[1, 3, 2, 4, 5]\n"
     ]
    }
   ],
   "source": [
    "# Q.11) Write a code to remove all occurrences of a specific element from A list\n",
    "def remove_occurrence(list1,x):\n",
    "    for i in list1:\n",
    "        if i == x:\n",
    "            list1.remove(i)\n",
    "    return list1\n",
    "\n",
    "list12 = [1 ,2 ,2 ,3 ,2 ,4 ,5]\n",
    "print(remove_occurrence(list12,2))"
   ]
  },
  {
   "cell_type": "code",
   "execution_count": 7,
   "id": "acb6d582-add6-4bd7-8eee-1da74ab7eac0",
   "metadata": {},
   "outputs": [
    {
     "name": "stdout",
     "output_type": "stream",
     "text": [
      "67\n"
     ]
    }
   ],
   "source": [
    "#Q.12) Implement a code to find the second largest number in a given list of integers\n",
    "def sec_largest(l):\n",
    "    l.sort()\n",
    "    return l[-2]\n",
    "\n",
    "list1 = [23,52,67,12,78,32]\n",
    "sec = sec_largest(list1)\n",
    "print(sec)"
   ]
  },
  {
   "cell_type": "code",
   "execution_count": 15,
   "id": "654227a1-7ebc-4595-a516-6dffa3a06f97",
   "metadata": {},
   "outputs": [
    {
     "name": "stdout",
     "output_type": "stream",
     "text": [
      "{1: 1, 2: 2, 3: 3, 4: 4, 5: 5}\n"
     ]
    }
   ],
   "source": [
    "# Q.13) Create a code to count the occurrences of each element in a list and return the dictionary with elements as keys and their counts as values\n",
    "def count_occur(l):\n",
    "    dict1 = {}\n",
    "    for element in l:\n",
    "        if element in dict1:\n",
    "            dict1[element] += 1\n",
    "        else:\n",
    "            dict1[element] = 1\n",
    "    return dict1 \n",
    "\n",
    "list1 = [1,2,2,3,3,3,4,4,4,4,5,5,5,5,5]\n",
    "dict1 = count_occur(list1)\n",
    "print(dict1)\n"
   ]
  },
  {
   "cell_type": "code",
   "execution_count": 17,
   "id": "f5323c17-60e8-4093-9f92-c19181057946",
   "metadata": {},
   "outputs": [
    {
     "name": "stdout",
     "output_type": "stream",
     "text": [
      "[168, 8, 5, 3, 7, 46, 3, 5, 53, 34, 34, 343, 33, 3, 6, 45, 3, 3]\n"
     ]
    }
   ],
   "source": [
    "# Q.14) WAP to reverse a list in-place without using any built-in reverse function.\n",
    "list1 = [3,3,45,6,3,33,343,34,34,53,5,3,46,7,3,5,8,168]\n",
    "print(list1[::-1])"
   ]
  },
  {
   "cell_type": "code",
   "execution_count": 19,
   "id": "586a9c23-3b33-4929-b2fe-dce5b74fbb9e",
   "metadata": {},
   "outputs": [
    {
     "name": "stdout",
     "output_type": "stream",
     "text": [
      "[1, 2, 3, 4, 5, 6]\n"
     ]
    }
   ],
   "source": [
    "# Q.15) Implement a code to find and remove duplicates from a list while preserving the original order of elements\n",
    "\n",
    "def remove_duplicates(l):\n",
    "    s = set(l)\n",
    "    L = list(s)\n",
    "    return L\n",
    "list1 = [1,2,3,2,4,5,6,4,5,1,3,5,3,6,2]\n",
    "list2 = remove_duplicates(list1)\n",
    "print(list2)"
   ]
  },
  {
   "cell_type": "code",
   "execution_count": 25,
   "id": "108aed17-afee-4142-8f15-a64205d33247",
   "metadata": {},
   "outputs": [
    {
     "name": "stdout",
     "output_type": "stream",
     "text": [
      "True\n",
      "True\n",
      "False\n"
     ]
    }
   ],
   "source": [
    " # Q.16) Create a code to check if a given list is sorted (either in ascending or desending order) or not.\n",
    "\n",
    "def is_sorted(lst):\n",
    "    ascending = all(lst[i] <= lst[i + 1] for i in range(len(lst) - 1))\n",
    "    descending = all(lst[i] >= lst[i + 1] for i in range(len(lst) - 1))\n",
    "    return ascending or descending\n",
    "\n",
    "# Example usage:\n",
    "lst1 = [1, 2, 3, 4, 5]  # Sorted in ascending order\n",
    "lst2 = [5, 4, 3, 2, 1]  # Sorted in descending order\n",
    "lst3 = [1, 3, 2, 4, 5]  # Not sorted\n",
    "\n",
    "print(is_sorted(lst1))  # Output: True\n",
    "print(is_sorted(lst2))  # Output: True\n",
    "print(is_sorted(lst3))  # Output: False\n",
    "\n",
    "    \n"
   ]
  },
  {
   "cell_type": "code",
   "execution_count": 26,
   "id": "b30a2d01-b9bc-46d6-8dff-ba6a1f1c0561",
   "metadata": {},
   "outputs": [
    {
     "name": "stdout",
     "output_type": "stream",
     "text": [
      "[1, 2, 3, 4, 5, 6, 7, 8, 9, 10]\n"
     ]
    }
   ],
   "source": [
    "# Q.17)  Write a code to merge two sorted lists into a single sorted list.\n",
    "def merge_sorted_lists(lst1, lst2):\n",
    "    merged_list = []\n",
    "    i = 0  # Index for lst1\n",
    "    j = 0  # Index for lst2\n",
    "    \n",
    "    while i < len(lst1) and j < len(lst2):\n",
    "        if lst1[i] < lst2[j]:\n",
    "            merged_list.append(lst1[i])\n",
    "            i += 1\n",
    "        else:\n",
    "            merged_list.append(lst2[j])\n",
    "            j += 1\n",
    "    \n",
    "    # Add remaining elements from lst1, if any\n",
    "    while i < len(lst1):\n",
    "        merged_list.append(lst1[i])\n",
    "        i += 1\n",
    "    \n",
    "    # Add remaining elements from lst2, if any\n",
    "    while j < len(lst2):\n",
    "        merged_list.append(lst2[j])\n",
    "        j += 1\n",
    "    \n",
    "    return merged_list\n",
    "\n",
    "# Example usage:\n",
    "list1 = [1, 3, 5, 7, 9]\n",
    "list2 = [2, 4, 6, 8, 10]\n",
    "\n",
    "merged_list = merge_sorted_lists(list1, list2)\n",
    "print(merged_list)"
   ]
  },
  {
   "cell_type": "code",
   "execution_count": 28,
   "id": "13e628b0-1f63-4ec4-9797-5b51fe0572eb",
   "metadata": {},
   "outputs": [
    {
     "name": "stdout",
     "output_type": "stream",
     "text": [
      "[3, 4, 5]\n"
     ]
    }
   ],
   "source": [
    "# Q.18) implement the code to find the intersection between two lists\n",
    "\n",
    "def find_intersection(lst1, lst2):\n",
    "    intersection = []\n",
    "    for item in lst1:\n",
    "        if item in lst2 and item not in intersection:\n",
    "            intersection.append(item)\n",
    "    return intersection\n",
    "\n",
    "\n",
    "list1 = [1, 2, 3, 4, 5]\n",
    "list2 = [3, 4, 5, 6, 7]\n",
    "\n",
    "intersection = find_intersection(list1, list2)\n",
    "print(intersection) \n"
   ]
  },
  {
   "cell_type": "code",
   "execution_count": 31,
   "id": "9c58e933-170c-4dff-b16c-f8e7c38d31d3",
   "metadata": {},
   "outputs": [
    {
     "name": "stdout",
     "output_type": "stream",
     "text": [
      "[1, 2, 3, 4, 5, 6, 7]\n"
     ]
    }
   ],
   "source": [
    "# Q.19) Create a code to find the union of two lists without duplicates\n",
    "\n",
    "def find_union(lst1, lst2):\n",
    "    union = list(set(lst1 + lst2))\n",
    "    return union\n",
    "\n",
    "# Example usage:\n",
    "list1 = [1, 2, 3, 4, 5]\n",
    "list2 = [3, 4, 5, 6, 7]\n",
    "\n",
    "union = find_union(list1, list2)\n",
    "print(union)"
   ]
  },
  {
   "cell_type": "code",
   "execution_count": 34,
   "id": "e1baf044-18df-472a-a4a4-50f9bb866ea9",
   "metadata": {},
   "outputs": [
    {
     "name": "stdout",
     "output_type": "stream",
     "text": [
      "Original list: [1, 2, 3, 4, 5]\n",
      "Shuffled list: [1, 3, 5, 4, 2]\n"
     ]
    }
   ],
   "source": [
    "# Q.20) WAP to shuffle the elements of the list without using any built in shuffle function\n",
    "import random\n",
    "\n",
    "def shuffle(lst):\n",
    "    n = len(lst)\n",
    "    for i in range(n):\n",
    "        j = random.randint(i, n - 1)\n",
    "        lst[i], lst[j] = lst[j], lst[i]\n",
    "\n",
    "# Example usage:\n",
    "my_list = [1, 2, 3, 4, 5]\n",
    "print(\"Original list:\", my_list)\n",
    "\n",
    "shuffle(my_list)\n",
    "print(\"Shuffled list:\", my_list)\n"
   ]
  },
  {
   "cell_type": "code",
   "execution_count": 35,
   "id": "eb1c3239-6e8e-4831-89ff-95f946af14bf",
   "metadata": {},
   "outputs": [
    {
     "name": "stdout",
     "output_type": "stream",
     "text": [
      "(3, 4, 5)\n"
     ]
    }
   ],
   "source": [
    "# Q.21) Write a code that takes two tuples as input and returns a new tuple containing elemments that are common to both input tuples\n",
    "def find_common_elements(tuple1, tuple2):\n",
    "    set1 = set(tuple1)\n",
    "    set2 = set(tuple2)\n",
    "    common_elements = set1.intersection(set2)\n",
    "    return tuple(common_elements)\n",
    "\n",
    "# Example usage:\n",
    "tuple1 = (1, 2, 3, 4, 5)\n",
    "tuple2 = (3, 4, 5, 6, 7)\n",
    "\n",
    "common_tuple = find_common_elements(tuple1, tuple2)\n",
    "print(common_tuple)\n"
   ]
  },
  {
   "cell_type": "code",
   "execution_count": 36,
   "id": "96457e0e-75e7-43cd-91dd-bbf003da87ba",
   "metadata": {},
   "outputs": [
    {
     "name": "stdin",
     "output_type": "stream",
     "text": [
      "Enter a set of integers separated by commas:  1,4,2,5,2,6\n",
      "Enter a set of integers separated by commas:  4,2,1,5\n"
     ]
    },
    {
     "name": "stdout",
     "output_type": "stream",
     "text": [
      "Intersection of the two sets: {1, 2, 4, 5}\n"
     ]
    }
   ],
   "source": [
    "# Q.22) Create a code that prommpts the user to enter two sets of integers  separated by commas. Then  print the intersection of these two sets\n",
    "def get_set_from_input():\n",
    "    input_set = input(\"Enter a set of integers separated by commas: \")\n",
    "    # Split the input string by commas and convert each element to an integer\n",
    "    integers = map(int, input_set.split(','))\n",
    "    # Convert the list of integers to a set\n",
    "    return set(integers)\n",
    "\n",
    "# Get sets from user input\n",
    "set1 = get_set_from_input()\n",
    "set2 = get_set_from_input()\n",
    "\n",
    "# Find the intersection\n",
    "intersection = set1.intersection(set2)\n",
    "\n",
    "# Print the intersection\n",
    "print(\"Intersection of the two sets:\", intersection)\n"
   ]
  },
  {
   "cell_type": "code",
   "execution_count": 38,
   "id": "5e8cb317-d2d9-4015-8edb-67819d1f7761",
   "metadata": {},
   "outputs": [
    {
     "name": "stdout",
     "output_type": "stream",
     "text": [
      "(1, 2, 3, 4, 5, 6)\n"
     ]
    }
   ],
   "source": [
    "# Q.23) Write ' %ode to %on%'ten'te two tuple\u001d",
    ". The fun%tion \u001d",
    "hould t'ke two tuple\u001d",
    " '\u001d",
    " input 'nd return ' new\n",
    "# tuple %ont'ining ele\f",
    "ent\u001d",
    " fro\f",
    " both input tuple\u001d",
    ".\n",
    "def merge_tuples(tuple1, tuple2):\n",
    "    # Concatenate both tuples and return the result as a new tuple\n",
    "    return tuple1 + tuple2\n",
    "\n",
    "# Example usage:\n",
    "tuple1 = (1, 2, 3)\n",
    "tuple2 = (4, 5, 6)\n",
    "\n",
    "merged_tuple = merge_tuples(tuple1, tuple2)\n",
    "print(merged_tuple)"
   ]
  },
  {
   "cell_type": "code",
   "execution_count": 39,
   "id": "ce53b19a-3362-4dfb-ab2d-1d8e4915569a",
   "metadata": {},
   "outputs": [
    {
     "name": "stdin",
     "output_type": "stream",
     "text": [
      "Enter a set of strings separated by commas:  1,5,7,3,2,45,78,12,72\n",
      "Enter a set of strings separated by commas:  3,,12,35,1,5,72\n"
     ]
    },
    {
     "name": "stdout",
     "output_type": "stream",
     "text": [
      "Elements present in the first set but not in the second set: {'2', '78', '45', '7'}\n"
     ]
    }
   ],
   "source": [
    "# Q.24) D(v(lop + cod( th+t prompts th( us(r to input two s(ts of strings. Th(n print th( (l(m(nts th+t +r(\n",
    "# pr(s(nt in th( first s(t but not in th( s(cond s(t&\n",
    "\n",
    "\n",
    "def get_set_from_input():\n",
    "    input_set = input(\"Enter a set of strings separated by commas: \")\n",
    "    # Split the input string by commas\n",
    "    strings = input_set.split(',')\n",
    "    # Convert the list of strings to a set\n",
    "    return set(strings)\n",
    "\n",
    "# Get sets from user input\n",
    "set1 = get_set_from_input()\n",
    "set2 = get_set_from_input()\n",
    "\n",
    "# Find the elements present in the first set but not in the second set\n",
    "difference = set1 - set2\n",
    "\n",
    "# Print the result\n",
    "print(\"Elements present in the first set but not in the second set:\", difference)\n"
   ]
  },
  {
   "cell_type": "code",
   "execution_count": 6,
   "id": "21b1418c-d9b7-4037-8728-f595fac59f12",
   "metadata": {},
   "outputs": [
    {
     "name": "stdin",
     "output_type": "stream",
     "text": [
      "Enter the elements for tuple separate by commas: 1,2,3,4,5,6,7,8,9\n",
      "Enter integer 1: 2\n",
      "Enter integer 2 :  7\n"
     ]
    },
    {
     "name": "stdout",
     "output_type": "stream",
     "text": [
      "(3, 4, 5, 6, 7)\n"
     ]
    }
   ],
   "source": [
    "# Q.25)  Create a code that takes a tuple and two integers as input. The function should return a new tuple containing elements from the original tuples within the specified range of indices.\n",
    "def range_tuple(tup,i,j):\n",
    "    new_tuple = tup[i:j]\n",
    "    return new_tuple\n",
    "\n",
    "input_tup = input(\"Enter the elements for tuple separate by commas:\")\n",
    "i = int(input(\"Enter integer 1:\"))\n",
    "j = int(input(\"Enter integer 2 : \"))\n",
    "        \n",
    "elements = input_tup.split(\",\")\n",
    "tup = tuple(map(int,elements))\n",
    "\n",
    "new_tuple = range_tuple(tup,i,j)\n",
    "print(new_tuple)\n",
    "    "
   ]
  },
  {
   "cell_type": "code",
   "execution_count": 8,
   "id": "bf982b3a-d722-4af2-b40d-0d5ac520bd31",
   "metadata": {},
   "outputs": [
    {
     "name": "stdin",
     "output_type": "stream",
     "text": [
      "Enter the set1  1,2,3,4,5\n",
      "Enter the set2  6,7,8,9,10\n"
     ]
    },
    {
     "name": "stdout",
     "output_type": "stream",
     "text": [
      "{1, 2, 3, 4, 5, 6, 7, 8, 9, 10}\n"
     ]
    }
   ],
   "source": [
    "# Q.26) Write a code that prompts the user to input two sets of characters. Then print the union of these two sets.\n",
    "input_set1 = input(\"Enter the set1 \")\n",
    "input_set2 = input(\"Enter the set2 \")\n",
    "\n",
    "list1 = input_set1.split(\",\")\n",
    "list2 = input_set2.split(\",\")\n",
    "\n",
    "set1 = set(map(int,list1))\n",
    "set2 = set(map(int,list2))\n",
    "\n",
    "set1 = set1.union(set2)\n",
    "print(set1)"
   ]
  },
  {
   "cell_type": "code",
   "execution_count": 15,
   "id": "cf7a80bd-c040-4383-a1a9-db1034d5abfb",
   "metadata": {},
   "outputs": [
    {
     "name": "stdout",
     "output_type": "stream",
     "text": [
      "Maximum value: 9\n",
      "Minimum value: 1\n"
     ]
    }
   ],
   "source": [
    "# Q.27)  Develop a code that takes a tuple of integers as input. The function should return the maximum and minimum values from the tuple using tuple unpacking.\n",
    "\n",
    "def find_max_min(tuple_of_integers):\n",
    "    # Unpack the tuple to get the maximum and minimum values\n",
    "    max_value = max(tuple_of_integers)\n",
    "    min_value = min(tuple_of_integers)\n",
    "    return max_value, min_value\n",
    "\n",
    "my_tuple = (5, 3, 9, 1, 7)\n",
    "max_value, min_value = find_max_min(my_tuple)\n",
    "print(\"Maximum value:\", max_value)\n",
    "print(\"Minimum value:\", min_value)\n",
    "\n"
   ]
  },
  {
   "cell_type": "code",
   "execution_count": 16,
   "id": "013bcc1d-a827-4d65-ba79-8f4e830336fa",
   "metadata": {},
   "outputs": [
    {
     "name": "stdin",
     "output_type": "stream",
     "text": [
      "Enter the set1  1,2,3,4,5,6,7\n",
      "Enter the set2  4,5,7,9,19\n"
     ]
    },
    {
     "name": "stdout",
     "output_type": "stream",
     "text": [
      "{1, 2, 3, 4, 5, 6, 7, 9, 19}\n",
      "{4, 5, 7, 9, 19}\n",
      "{1, 2, 3, 6}\n"
     ]
    }
   ],
   "source": [
    "#Q.28)  Create a code that defines two sets of integers. Then print the union intersection and difference of these two sets.\n",
    "input_set1 = input(\"Enter the set1 \")\n",
    "input_set2 = input(\"Enter the set2 \")\n",
    "\n",
    "list1 = input_set1.split(\",\")\n",
    "list2 = input_set2.split(\",\")\n",
    "\n",
    "set1 = set(map(int,list1))\n",
    "set2 = set(map(int,list2))\n",
    "\n",
    "set1 = set1.union(set2)\n",
    "set3 = set1.intersection(set2)\n",
    "set4 = set1-set2\n",
    "print(set1)\n",
    "print(set3)\n",
    "print(set4)"
   ]
  },
  {
   "cell_type": "code",
   "execution_count": 18,
   "id": "764de6f5-3611-4eae-b376-386f046ffaa6",
   "metadata": {},
   "outputs": [
    {
     "data": {
      "text/plain": [
       "'The count of 3 in tuple is 3'"
      ]
     },
     "execution_count": 18,
     "metadata": {},
     "output_type": "execute_result"
    }
   ],
   "source": [
    "#Q.29) Writ( + cod( th+t t+k(s + tupl( +nd +n (l(m(nt +s input. Th( function should r(turn th( count of\n",
    "# occurr(nc(s of th( giv(n (l(m(nt in th( tupl(&\n",
    "\n",
    "def count_occur(tup,x):\n",
    "    count = 0\n",
    "    for i in tup:\n",
    "        if(i==x):\n",
    "            count += 1\n",
    "    return f\"The count of {x} in tuple is {count}\"\n",
    "\n",
    "tuple1 = (1,2,3,3,4,5,3)\n",
    "element = 3\n",
    "count_occur(tuple1,element)\n",
    "        "
   ]
  },
  {
   "cell_type": "code",
   "execution_count": 19,
   "id": "cf3192ce-85ed-49f3-b5d1-29f48ccdd739",
   "metadata": {},
   "outputs": [
    {
     "name": "stdin",
     "output_type": "stream",
     "text": [
      "Enter the set1  1,2,4,6,3,6\n",
      "Enter the set2  3,6,2,7,8\n"
     ]
    },
    {
     "name": "stdout",
     "output_type": "stream",
     "text": [
      "Set Difference is {1, 4, 7, 8}\n"
     ]
    }
   ],
   "source": [
    "#Q.30)  D(v(lop + cod( th+t prompts th( us(r to input two s(ts of strings. Th(n print th( s\u0004mm(tric diff(r(nc( ofth(s( two s(ts&\n",
    "input_set1 = input(\"Enter the set1 \")\n",
    "input_set2 = input(\"Enter the set2 \")\n",
    "\n",
    "list1 = input_set1.split(\",\")\n",
    "list2 = input_set2.split(\",\")\n",
    "\n",
    "set1 = set(map(int,list1))\n",
    "set2 = set(map(int,list2))\n",
    "\n",
    "set_difference = set1 ^ set2\n",
    "print(f\"Set Difference is {set_difference}\")"
   ]
  },
  {
   "cell_type": "code",
   "execution_count": 23,
   "id": "80586d7e-751d-4bae-b23f-29dd69529555",
   "metadata": {},
   "outputs": [
    {
     "name": "stdin",
     "output_type": "stream",
     "text": [
      "Enter the list:  shreya,shreya,kashyap\n"
     ]
    },
    {
     "name": "stdout",
     "output_type": "stream",
     "text": [
      "{'shreya': 2, 'kashyap': 1}\n"
     ]
    }
   ],
   "source": [
    "# Q.31) WAP to take list of words as input and return a dictionary where the keys are the unique words and the values are the frequencies of those words in the list.\n",
    "def word_feq(lis):\n",
    "    dic = {}\n",
    "    for word in lis:\n",
    "        if word in dic:\n",
    "            dic[word] += 1\n",
    "        else:\n",
    "            dic[word] = 1\n",
    "    return dic\n",
    "\n",
    "input_list1 = input(\"Enter the list: \")\n",
    "list1 = input_list1.split(\",\")\n",
    "dic = word_feq(list1)\n",
    "print(dic)"
   ]
  },
  {
   "cell_type": "code",
   "execution_count": 24,
   "id": "42350f26-ae7d-482c-92c3-1d5db1d5e18c",
   "metadata": {},
   "outputs": [
    {
     "name": "stdout",
     "output_type": "stream",
     "text": [
      "Merged dictionary: {'a': 1, 'b': 5, 'd': 5, 'c': 7}\n"
     ]
    }
   ],
   "source": [
    "# Q.32)\n",
    "def merge_and_sum(dict1, dict2):\n",
    "    merged_dict = {}\n",
    "\n",
    "    # Iterate through the keys of both dictionaries\n",
    "    for key in set(dict1.keys()) | set(dict2.keys()):\n",
    "        # Check if the key exists in both dictionaries\n",
    "        if key in dict1 and key in dict2:\n",
    "            # If the key exists in both dictionaries, add their values together\n",
    "            merged_dict[key] = dict1[key] + dict2[key]\n",
    "        elif key in dict1:\n",
    "            # If the key exists only in the first dictionary, copy its key-value pair\n",
    "            merged_dict[key] = dict1[key]\n",
    "        else:\n",
    "            # If the key exists only in the second dictionary, copy its key-value pair\n",
    "            merged_dict[key] = dict2[key]\n",
    "\n",
    "    return merged_dict\n",
    "\n",
    "# Example usage:\n",
    "dict1 = {'a': 1, 'b': 2, 'c': 3}\n",
    "dict2 = {'b': 3, 'c': 4, 'd': 5}\n",
    "\n",
    "merged_dict = merge_and_sum(dict1, dict2)\n",
    "print(\"Merged dictionary:\", merged_dict)\n"
   ]
  },
  {
   "cell_type": "code",
   "execution_count": 25,
   "id": "52feb87a-3e9a-429a-8eb3-b73141eccdcb",
   "metadata": {},
   "outputs": [
    {
     "name": "stdout",
     "output_type": "stream",
     "text": [
      "Value for keys1: 1\n",
      "Value for keys2: 3\n",
      "Value for keys3: None\n"
     ]
    }
   ],
   "source": [
    "# Q.33) \n",
    "def access_nested_dict(dictionary, keys):\n",
    "    nested_dict = dictionary\n",
    "    for key in keys:\n",
    "        # Check if the key exists in the current nested dictionary\n",
    "        if key in nested_dict:\n",
    "            nested_dict = nested_dict[key]\n",
    "        else:\n",
    "        \n",
    "            return None\n",
    "    return nested_dict\n",
    "\n",
    "\n",
    "my_dict = {\n",
    "    'a': {\n",
    "        'b': {\n",
    "            'c': 1,\n",
    "            'd': 2\n",
    "        },\n",
    "        'e': {\n",
    "            'f': 3\n",
    "        }\n",
    "    },\n",
    "    'g': 4\n",
    "}\n",
    "\n",
    "# Accessing values using a list of keys\n",
    "keys1 = ['a', 'b', 'c']\n",
    "keys2 = ['a', 'e', 'f']\n",
    "keys3 = ['a', 'b', 'x']\n",
    "\n",
    "value1 = access_nested_dict(my_dict, keys1)\n",
    "value2 = access_nested_dict(my_dict, keys2)\n",
    "value3 = access_nested_dict(my_dict, keys3)\n",
    "\n",
    "print(\"Value for keys1:\", value1)  # Output: 1\n",
    "print(\"Value for keys2:\", value2)  # Output: 3\n",
    "print(\"Value for keys3:\", value3)  # Output: None\n"
   ]
  },
  {
   "cell_type": "code",
   "execution_count": 26,
   "id": "f65e6eba-ef47-48e1-ab7f-c2aaf83b5ffe",
   "metadata": {},
   "outputs": [
    {
     "name": "stdout",
     "output_type": "stream",
     "text": [
      "Sorted dictionary in ascending order: {'d': 1, 'b': 2, 'a': 5, 'c': 8}\n",
      "Sorted dictionary in descending order: {'c': 8, 'a': 5, 'b': 2, 'd': 1}\n"
     ]
    }
   ],
   "source": [
    "# q.34) \n",
    "def sort_dict_by_value(dictionary, ascending=True):\n",
    "    # Sort the dictionary by its values\n",
    "    sorted_items = sorted(dictionary.items(), key=lambda x: x[1], reverse=not ascending)\n",
    "    # Convert the sorted items back to a dictionary\n",
    "    sorted_dict = dict(sorted_items)\n",
    "    return sorted_dict\n",
    "\n",
    "# Example usage:\n",
    "my_dict = {'a': 5, 'b': 2, 'c': 8, 'd': 1}\n",
    "\n",
    "# Sort the dictionary in ascending order by default\n",
    "sorted_dict_asc = sort_dict_by_value(my_dict)\n",
    "print(\"Sorted dictionary in ascending order:\", sorted_dict_asc)\n",
    "\n",
    "# Sort the dictionary in descending order\n",
    "sorted_dict_desc = sort_dict_by_value(my_dict, ascending=False)\n",
    "print(\"Sorted dictionary in descending order:\", sorted_dict_desc)\n"
   ]
  },
  {
   "cell_type": "code",
   "execution_count": 27,
   "id": "5bba2b77-c341-4de2-92ae-8f9bbe0d0a0e",
   "metadata": {},
   "outputs": [
    {
     "name": "stdout",
     "output_type": "stream",
     "text": [
      "Inverted dictionary: {1: ['a', 'c'], 2: ['b'], 3: ['d']}\n"
     ]
    }
   ],
   "source": [
    "# q.35) \n",
    "def invert_dictionary(dictionary):\n",
    "    inverted_dict = {}\n",
    "    for key, value in dictionary.items():\n",
    "        if value in inverted_dict:\n",
    "            # If the value already exists, append the key to the list\n",
    "            inverted_dict[value].append(key)\n",
    "        else:\n",
    "            # If the value does not exist, create a new list with the key\n",
    "            inverted_dict[value] = [key]\n",
    "    return inverted_dict\n",
    "\n",
    "# Example usage:\n",
    "my_dict = {'a': 1, 'b': 2, 'c': 1, 'd': 3}\n",
    "\n",
    "inverted_dict = invert_dictionary(my_dict)\n",
    "print(\"Inverted dictionary:\", inverted_dict)\n"
   ]
  },
  {
   "cell_type": "code",
   "execution_count": null,
   "id": "36f5bc77-8dd5-4504-88cf-727601046e48",
   "metadata": {},
   "outputs": [],
   "source": [
    "===========================DONE================================="
   ]
  }
 ],
 "metadata": {
  "kernelspec": {
   "display_name": "Python 3 (ipykernel)",
   "language": "python",
   "name": "python3"
  },
  "language_info": {
   "codemirror_mode": {
    "name": "ipython",
    "version": 3
   },
   "file_extension": ".py",
   "mimetype": "text/x-python",
   "name": "python",
   "nbconvert_exporter": "python",
   "pygments_lexer": "ipython3",
   "version": "3.10.8"
  }
 },
 "nbformat": 4,
 "nbformat_minor": 5
}
